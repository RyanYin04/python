{
 "cells": [
  {
   "cell_type": "markdown",
   "metadata": {},
   "source": [
    "# STA 141B Assignment 1\n",
    "\n",
    "Due __Jan 17, 2019__ by 11:59pm. Submit by editing this file, committing the changes with git, and then pushing to your private GitHub repo for the assignment. This assignment is intentionally short so that you can submit a little bit early and have time to work out any issues with git!\n",
    "\n",
    "Please do not rename this file or delete the exercise cells, because it will interfere with our grading tools.\n",
    "\n",
    "Put your answers in new cells after each exercise. You can make as many new cells as you like. Use code cells for code and Markdown cells for text. Answer all questions with complete sentences.\n",
    "\n",
    "This assignment will be graded for correctness.\n",
    "\n",
    "The purpose of this assignment is to practice programming fundamentals: writing functions, if-statements, and loops. We'll get to more interesting and data science-y exercises in the next assignment."
   ]
  },
  {
   "cell_type": "markdown",
   "metadata": {
    "tags": [
     "exercise"
    ]
   },
   "source": [
    "## Warm Ups\n",
    "\n",
    "__Exercise 1.1 (10 points).__ In lecture, we saw that Python's lists have reference semantics. Give a similar example that shows Python's dictionaries have reference semantics. Make sure to explain your example."
   ]
  },
  {
   "cell_type": "code",
   "execution_count": 19,
   "metadata": {
    "tags": [
     "Answer"
    ]
   },
   "outputs": [
    {
     "name": "stdout",
     "output_type": "stream",
     "text": [
      "The first example:\n",
      " dic1 is  {1: 'excited', 2: 'Not bad', 3: 'sad'} \n",
      " dic2 is  {1: 'excited', 2: 'Not bad', 3: 'sad'}\n",
      "\n",
      "\n",
      "The second example:\n",
      " dic1 is  {1: 'excited', 2: 'doing well', 3: 'sad'} \n",
      " dic2 is  {1: 'excited', 2: 'doing well', 3: 'sad'}\n",
      "\n",
      "\n",
      "The third example:\n",
      " dic1 is  [1, 2, 3] \n",
      " dic2 is  {1: 'excited', 2: 'doing well', 3: 'sad'}\n"
     ]
    }
   ],
   "source": [
    "print('The first example:')\n",
    "dic1 = {1:'happy', 2:'Not bad', 3:'sad'}\n",
    "dic2 = dic1\n",
    "dic1[1] = 'excited'\n",
    "print(' dic1 is ',dic1,'\\n','dic2 is ',dic2)\n",
    "print('\\n')\n",
    "\n",
    "print('The second example:')\n",
    "# In this way, if we do any change on the dictionary, the change will also happens on the second dictionary.\n",
    "# Similarly, if we make any change on dic2, it will also change dic1\n",
    "dic2[2] = 'doing well'\n",
    "print(' dic1 is ',dic1,'\\n','dic2 is ',dic2)\n",
    "print('\\n')\n",
    "\n",
    "print('The third example:')\n",
    "# But if give dic1 another type of data/object, it will not change dic2:\n",
    "dic1 = [1,2,3]\n",
    "print(' dic1 is ',dic1,'\\n','dic2 is ',dic2)"
   ]
  },
  {
   "cell_type": "markdown",
   "metadata": {
    "tags": [
     "exercise"
    ]
   },
   "source": [
    "__Exercise 1.2 (10 points).__ Are strings mutable? Give an example and explain your reasoning. _Hint: It's a good idea to confirm your answer by checking the Python 3 documentation._\n",
    "\n",
    "Next, read [the documentation](https://docs.python.org/3/library/stdtypes.html#str.replace) for the string `.replace()` method. Give an example of using the method and explain how it fits in with your understanding of whether or not strings are mutable."
   ]
  },
  {
   "cell_type": "code",
   "execution_count": 8,
   "metadata": {},
   "outputs": [
    {
     "name": "stdout",
     "output_type": "stream",
     "text": [
      "That was my first python programs. That was awsome! He was a student in stat department\n",
      "1959460891480 1959460118016\n"
     ]
    }
   ],
   "source": [
    "str1 = 'That is my first python programs. That is awsome! He is a student in stat department'\n",
    "# str1[1]\n",
    "# str[1] = 5\n",
    "# The output is error, so string is not mutable.\n",
    "# But we can change the string by using .replace.\n",
    "\n",
    "str2 = str1.replace('is', 'was')\n",
    "print(str2)\n",
    "print(id(str1),id(str2))\n",
    "# ID of str1 and str2 are different.\n"
   ]
  },
  {
   "cell_type": "markdown",
   "metadata": {
    "tags": [
     "exercise"
    ]
   },
   "source": [
    "## Writing Functions\n",
    "\n",
    "__Exercise 1.3 (10 points).__ Write a function `mean` that takes a list of numbers as input and returns their mean as output. Test your function on at least two examples."
   ]
  },
  {
   "cell_type": "code",
   "execution_count": 43,
   "metadata": {},
   "outputs": [],
   "source": [
    "def mean(x):\n",
    "#     x should be a lsit\n",
    "    length = len(x)\n",
    "    s = sum(x)\n",
    "    avg = s/length\n",
    "    return avg\n",
    "t1 = [1,2,3]\n",
    "t2 = [10,20,5,7,9]\n",
    "mean(t1)\n",
    "# Seems work well with list\n"
   ]
  },
  {
   "cell_type": "markdown",
   "metadata": {
    "tags": [
     "exercise"
    ]
   },
   "source": [
    "__Exercise 1.4 (10 points).__ For the function you wrote in Exercise 1.3, what happens if the input list is empty or contains non-numeric elements? Create a new version of your function called `better_mean` that returns `None` when either of these unusual cases occur.\n",
    "\n",
    "_Hint: A similar problem is discussed in [Section 6.8](http://greenteapress.com/thinkpython2/html/thinkpython2007.html#sec77) of Think Python._"
   ]
  },
  {
   "cell_type": "code",
   "execution_count": 52,
   "metadata": {},
   "outputs": [
    {
     "name": "stdout",
     "output_type": "stream",
     "text": [
      "The first test: \n",
      "2.0 \n",
      "\n",
      "The second test:\n",
      "None \n",
      "\n",
      "The third test:\n",
      "None \n",
      "\n"
     ]
    }
   ],
   "source": [
    "# mean([])\n",
    "# Cannot have an output if the input is an empty list.\n",
    "# mean('a')\n",
    "# It fails on non-numeric elements.\n",
    "\n",
    "def better_mean(x):\n",
    "    if len(x) == 0:\n",
    "        return None\n",
    "    judge = (all(type(item) == int or type(item) == float for item in x))\n",
    "    if judge == True:\n",
    "        return mean(x)\n",
    "    else:\n",
    "        return None\n",
    "\n",
    "# test the function\n",
    "print('The first test: ')\n",
    "print(better_mean([1,2,3]),'\\n')\n",
    "\n",
    "print('The second test:')\n",
    "print(better_mean([1,'a','c']),'\\n')\n",
    "\n",
    "print('The third test:')\n",
    "print(better_mean([]),'\\n')\n",
    "\n",
    "\n",
    "\n"
   ]
  },
  {
   "cell_type": "markdown",
   "metadata": {
    "tags": [
     "exercise"
    ]
   },
   "source": [
    "__Exercise 1.5 (10 points).__ Read [Section 4.9](http://greenteapress.com/thinkpython2/html/thinkpython2005.html#sec50) of Think Python. Create a new version of your function from Exercise 1.4 called `best_mean` that includes a docstring explaining how to use the function. Give an example to show that your docstring works with Python's built-in help system."
   ]
  },
  {
   "cell_type": "code",
   "execution_count": 60,
   "metadata": {},
   "outputs": [
    {
     "name": "stdout",
     "output_type": "stream",
     "text": [
      "2.0\n",
      "Help on function best_mean in module __main__:\n",
      "\n",
      "best_mean(x)\n",
      "    Get the mean of a list with all numerical elements.\n",
      "    And will return None if the list contains any non-numerical elements or it is empty\n",
      "\n"
     ]
    },
    {
     "data": {
      "text/plain": [
       "1"
      ]
     },
     "execution_count": 60,
     "metadata": {},
     "output_type": "execute_result"
    }
   ],
   "source": [
    "def best_mean(x):\n",
    "    '''Get the mean of a list with all numerical elements.\n",
    "    And will return None if the list contains any non-numerical elements or it is empty'''\n",
    "    return better_mean(x)\n",
    "\n",
    "# Test the functin\n",
    "print(best_mean([1,2,3]))\n",
    "\n",
    "# Work with help system:\n",
    "help(best_mean)\n",
    "\n"
   ]
  },
  {
   "cell_type": "markdown",
   "metadata": {
    "tags": [
     "exercise"
    ]
   },
   "source": [
    "__Exercise 1.6 (10 points).__ Write a function `median` that takes a list of numbers as input and returns their median as output. Document your function with a docstring. Test your function on at least two examples."
   ]
  },
  {
   "cell_type": "code",
   "execution_count": 74,
   "metadata": {},
   "outputs": [
    {
     "name": "stdout",
     "output_type": "stream",
     "text": [
      "First test:\n",
      "2 \n",
      "\n",
      "Second test:\n",
      "2.0\n"
     ]
    }
   ],
   "source": [
    "def median(x):\n",
    "    '''Get the median of a list of numerical elements\n",
    "    The list should only have numerical elements.'''\n",
    "    x_sorted = sorted(x)\n",
    "    length = len(x)\n",
    "    if length%2 == 0:\n",
    "        idx1 = int(length/2)\n",
    "        idx2 = int(length/2 - 1)\n",
    "        mid = (x_sorted[idx1]+x_sorted[idx2])/2\n",
    "    elif length%2 == 1:\n",
    "        idx = int((length-1)/2)\n",
    "        mid  = x_sorted[idx]\n",
    "    return mid\n",
    "# Test functon:\n",
    "print('First test:')\n",
    "print(median([1,3,2]),'\\n')\n",
    "\n",
    "print('Second test:')\n",
    "print(median([1,4,4,2,2,2]))\n",
    "\n"
   ]
  },
  {
   "cell_type": "markdown",
   "metadata": {
    "tags": [
     "exercise"
    ]
   },
   "source": [
    "## Finding Exponential Roots\n",
    "\n",
    "The Newton-Raphson algorithm is an algorithm for finding the zeroes of a mathematical function. We can use the Newton-Raphson algorithm to find zeroes of the function\n",
    "\n",
    "$$\n",
    "f(x) = x^p - c\n",
    "$$\n",
    "\n",
    "where $p$ and $c$ are constants. For example, if we choose $p = 2$ and $c = 5$, the Newton-Raphson algorithm finds solutions to\n",
    "\n",
    "$$\n",
    "0 = x^2 - 5\n",
    "$$\n",
    "\n",
    "In other words, we can use the algorithm to find square roots. By changing $p$, we can also find other kinds of exponential roots.\n",
    "\n",
    "\n",
    "The algorithm works by starting from an initial guess $x_0$ and then iteratively evaluating\n",
    "\n",
    "$$\n",
    "x_{n+1} = x_n - \\frac{f(x_n)}{f'(x_n)}\n",
    "$$\n",
    "\n",
    "for $n = 0, 1, 2, \\dots, N$ until reaching a result $X_{N+1}$ with acceptable accuracy. The initial guess does not need to be an excellent guess, but can affect which zero is found.\n",
    "\n",
    "For our specific function $f$, note that $f'(x) = px^{p-1}$.\n",
    "\n",
    "__Exercise 1.7 (20 points).__ Write a function `root` that uses the Newton-Raphson algorithm to compute one of the $p$-th roots for a constant $c$. Your function does not need to find complex roots, only real roots. Your function should have arguments\n",
    "\n",
    "* `c`, the constant\n",
    "* `p`, the power\n",
    "* `x0`, the initial guess\n",
    "* `N`, the maximum number of iterations\n",
    "\n",
    "Test your function for $c = 2$, $p = 2$, $N = 100$. Try different values of $x_0$. Can you find initial guesses to get both roots? Explain what happens when the initial guess is $x_0 = 0$."
   ]
  },
  {
   "cell_type": "code",
   "execution_count": 8,
   "metadata": {},
   "outputs": [
    {
     "name": "stdout",
     "output_type": "stream",
     "text": [
      "1.414213562464649\n"
     ]
    }
   ],
   "source": [
    "def root(p,c,x0,N):\n",
    "    '''This function is to get the root for the equation x^p-c=0 by using Newton-Raphson algorithm\n",
    "    p is the power\n",
    "    c is the constant\n",
    "    N is the maximum number of iteration\n",
    "    x0 is the initial guess'''\n",
    "#     Initialize the error\n",
    "    err = 100\n",
    "    i = 0\n",
    "    x0 = float(x0)\n",
    "    if x0**p == c:\n",
    "        err = 0\n",
    "        return x0\n",
    "    else:\n",
    "        while(err > 10**(-5)):\n",
    "            i = i+1\n",
    "            if i ==1:\n",
    "                rt = x0-(x0**p-c)/(p*x0**(p-1))\n",
    "            else:\n",
    "                rt =  rt-(rt**p-c)/(p*rt**(p-1))\n",
    "            err = abs(rt**p-c)\n",
    "            if i>N:\n",
    "                return 'Try another initial guess point'\n",
    "                break\n",
    "        return rt\n",
    "\n",
    "# -------------------------------------------------------------------\n",
    "print(root(2,2,30,100))\n",
    "        \n",
    "        \n",
    "    "
   ]
  },
  {
   "cell_type": "code",
   "execution_count": 9,
   "metadata": {},
   "outputs": [
    {
     "ename": "ZeroDivisionError",
     "evalue": "float division by zero",
     "output_type": "error",
     "traceback": [
      "\u001b[1;31m---------------------------------------------------------------------------\u001b[0m",
      "\u001b[1;31mZeroDivisionError\u001b[0m                         Traceback (most recent call last)",
      "\u001b[1;32m<ipython-input-9-cb136683970c>\u001b[0m in \u001b[0;36m<module>\u001b[1;34m\u001b[0m\n\u001b[0;32m      1\u001b[0m \u001b[1;31m# If set 0 as the first guess:\u001b[0m\u001b[1;33m\u001b[0m\u001b[1;33m\u001b[0m\u001b[1;33m\u001b[0m\u001b[0m\n\u001b[1;32m----> 2\u001b[1;33m \u001b[0mroot\u001b[0m\u001b[1;33m(\u001b[0m\u001b[1;36m2\u001b[0m\u001b[1;33m,\u001b[0m\u001b[1;36m2\u001b[0m\u001b[1;33m,\u001b[0m\u001b[1;36m0\u001b[0m\u001b[1;33m,\u001b[0m\u001b[1;36m100\u001b[0m\u001b[1;33m)\u001b[0m\u001b[1;33m\u001b[0m\u001b[1;33m\u001b[0m\u001b[0m\n\u001b[0m",
      "\u001b[1;32m<ipython-input-8-9ec3fe846bef>\u001b[0m in \u001b[0;36mroot\u001b[1;34m(p, c, x0, N)\u001b[0m\n\u001b[0;32m     16\u001b[0m             \u001b[0mi\u001b[0m \u001b[1;33m=\u001b[0m \u001b[0mi\u001b[0m\u001b[1;33m+\u001b[0m\u001b[1;36m1\u001b[0m\u001b[1;33m\u001b[0m\u001b[1;33m\u001b[0m\u001b[0m\n\u001b[0;32m     17\u001b[0m             \u001b[1;32mif\u001b[0m \u001b[0mi\u001b[0m \u001b[1;33m==\u001b[0m\u001b[1;36m1\u001b[0m\u001b[1;33m:\u001b[0m\u001b[1;33m\u001b[0m\u001b[1;33m\u001b[0m\u001b[0m\n\u001b[1;32m---> 18\u001b[1;33m                 \u001b[0mrt\u001b[0m \u001b[1;33m=\u001b[0m \u001b[0mx0\u001b[0m\u001b[1;33m-\u001b[0m\u001b[1;33m(\u001b[0m\u001b[0mx0\u001b[0m\u001b[1;33m**\u001b[0m\u001b[0mp\u001b[0m\u001b[1;33m-\u001b[0m\u001b[0mc\u001b[0m\u001b[1;33m)\u001b[0m\u001b[1;33m/\u001b[0m\u001b[1;33m(\u001b[0m\u001b[0mp\u001b[0m\u001b[1;33m*\u001b[0m\u001b[0mx0\u001b[0m\u001b[1;33m**\u001b[0m\u001b[1;33m(\u001b[0m\u001b[0mp\u001b[0m\u001b[1;33m-\u001b[0m\u001b[1;36m1\u001b[0m\u001b[1;33m)\u001b[0m\u001b[1;33m)\u001b[0m\u001b[1;33m\u001b[0m\u001b[1;33m\u001b[0m\u001b[0m\n\u001b[0m\u001b[0;32m     19\u001b[0m             \u001b[1;32melse\u001b[0m\u001b[1;33m:\u001b[0m\u001b[1;33m\u001b[0m\u001b[1;33m\u001b[0m\u001b[0m\n\u001b[0;32m     20\u001b[0m                 \u001b[0mrt\u001b[0m \u001b[1;33m=\u001b[0m  \u001b[0mrt\u001b[0m\u001b[1;33m-\u001b[0m\u001b[1;33m(\u001b[0m\u001b[0mrt\u001b[0m\u001b[1;33m**\u001b[0m\u001b[0mp\u001b[0m\u001b[1;33m-\u001b[0m\u001b[0mc\u001b[0m\u001b[1;33m)\u001b[0m\u001b[1;33m/\u001b[0m\u001b[1;33m(\u001b[0m\u001b[0mp\u001b[0m\u001b[1;33m*\u001b[0m\u001b[0mrt\u001b[0m\u001b[1;33m**\u001b[0m\u001b[1;33m(\u001b[0m\u001b[0mp\u001b[0m\u001b[1;33m-\u001b[0m\u001b[1;36m1\u001b[0m\u001b[1;33m)\u001b[0m\u001b[1;33m)\u001b[0m\u001b[1;33m\u001b[0m\u001b[1;33m\u001b[0m\u001b[0m\n",
      "\u001b[1;31mZeroDivisionError\u001b[0m: float division by zero"
     ]
    }
   ],
   "source": [
    "# If set 0 as the first guess:\n",
    "root(2,2,0,100)\n",
    "# This is a bad guess, cuz we can not use 0 as denominator."
   ]
  },
  {
   "cell_type": "markdown",
   "metadata": {
    "tags": [
     "exercise"
    ]
   },
   "source": [
    "__Exercise 1.8 (20 points).__ Read the Python documentation for the string `.format()` method (see [here](https://docs.python.org/3/library/stdtypes.html#str.format)). Create a new version of your function from Exercise 1.7 called `root_print` that neatly prints the iteration number and estimate for each iteration up to $N$.\n",
    "\n",
    "Test your function for $c = 7$, $p = 3$, $x_0 = 2$, $N = 50$. About how many iterations does it take for the first 3 digits to stabilize at the correct values?"
   ]
  },
  {
   "cell_type": "code",
   "execution_count": 27,
   "metadata": {},
   "outputs": [
    {
     "name": "stdout",
     "output_type": "stream",
     "text": [
      " This is 0th iteration.\n",
      " The estimation of the root is 1.9166666666666667.\n",
      " Error is 0.04108796296296369.\n",
      "\n",
      " This is 1th iteration.\n",
      " The estimation of the root is 1.9129384583070783.\n",
      " Error is 7.987052066926736e-05.\n",
      "\n",
      " This is 2th iteration.\n",
      " The estimation of the root is 1.9129311828000604.\n",
      " Error is 3.0377300674899743e-10.\n",
      "\n",
      " This is 3th iteration.\n",
      " The estimation of the root is 1.9129311827723892.\n",
      " Error is 8.881784197001252e-16.\n",
      "\n",
      " This is 4th iteration.\n",
      " The estimation of the root is 1.9129311827723892.\n",
      " Error is 8.881784197001252e-16.\n",
      "\n",
      " This is 5th iteration.\n",
      " The estimation of the root is 1.9129311827723892.\n",
      " Error is 8.881784197001252e-16.\n",
      "\n",
      " This is 6th iteration.\n",
      " The estimation of the root is 1.9129311827723892.\n",
      " Error is 8.881784197001252e-16.\n",
      "\n",
      " This is 7th iteration.\n",
      " The estimation of the root is 1.9129311827723892.\n",
      " Error is 8.881784197001252e-16.\n",
      "\n",
      " This is 8th iteration.\n",
      " The estimation of the root is 1.9129311827723892.\n",
      " Error is 8.881784197001252e-16.\n",
      "\n",
      " This is 9th iteration.\n",
      " The estimation of the root is 1.9129311827723892.\n",
      " Error is 8.881784197001252e-16.\n",
      "\n",
      " This is 10th iteration.\n",
      " The estimation of the root is 1.9129311827723892.\n",
      " Error is 8.881784197001252e-16.\n",
      "\n",
      " This is 11th iteration.\n",
      " The estimation of the root is 1.9129311827723892.\n",
      " Error is 8.881784197001252e-16.\n",
      "\n",
      " This is 12th iteration.\n",
      " The estimation of the root is 1.9129311827723892.\n",
      " Error is 8.881784197001252e-16.\n",
      "\n",
      " This is 13th iteration.\n",
      " The estimation of the root is 1.9129311827723892.\n",
      " Error is 8.881784197001252e-16.\n",
      "\n",
      " This is 14th iteration.\n",
      " The estimation of the root is 1.9129311827723892.\n",
      " Error is 8.881784197001252e-16.\n",
      "\n",
      " This is 15th iteration.\n",
      " The estimation of the root is 1.9129311827723892.\n",
      " Error is 8.881784197001252e-16.\n",
      "\n",
      " This is 16th iteration.\n",
      " The estimation of the root is 1.9129311827723892.\n",
      " Error is 8.881784197001252e-16.\n",
      "\n",
      " This is 17th iteration.\n",
      " The estimation of the root is 1.9129311827723892.\n",
      " Error is 8.881784197001252e-16.\n",
      "\n",
      " This is 18th iteration.\n",
      " The estimation of the root is 1.9129311827723892.\n",
      " Error is 8.881784197001252e-16.\n",
      "\n",
      " This is 19th iteration.\n",
      " The estimation of the root is 1.9129311827723892.\n",
      " Error is 8.881784197001252e-16.\n",
      "\n",
      " This is 20th iteration.\n",
      " The estimation of the root is 1.9129311827723892.\n",
      " Error is 8.881784197001252e-16.\n",
      "\n",
      " This is 21th iteration.\n",
      " The estimation of the root is 1.9129311827723892.\n",
      " Error is 8.881784197001252e-16.\n",
      "\n",
      " This is 22th iteration.\n",
      " The estimation of the root is 1.9129311827723892.\n",
      " Error is 8.881784197001252e-16.\n",
      "\n",
      " This is 23th iteration.\n",
      " The estimation of the root is 1.9129311827723892.\n",
      " Error is 8.881784197001252e-16.\n",
      "\n",
      " This is 24th iteration.\n",
      " The estimation of the root is 1.9129311827723892.\n",
      " Error is 8.881784197001252e-16.\n",
      "\n",
      " This is 25th iteration.\n",
      " The estimation of the root is 1.9129311827723892.\n",
      " Error is 8.881784197001252e-16.\n",
      "\n",
      " This is 26th iteration.\n",
      " The estimation of the root is 1.9129311827723892.\n",
      " Error is 8.881784197001252e-16.\n",
      "\n",
      " This is 27th iteration.\n",
      " The estimation of the root is 1.9129311827723892.\n",
      " Error is 8.881784197001252e-16.\n",
      "\n",
      " This is 28th iteration.\n",
      " The estimation of the root is 1.9129311827723892.\n",
      " Error is 8.881784197001252e-16.\n",
      "\n",
      " This is 29th iteration.\n",
      " The estimation of the root is 1.9129311827723892.\n",
      " Error is 8.881784197001252e-16.\n",
      "\n",
      " This is 30th iteration.\n",
      " The estimation of the root is 1.9129311827723892.\n",
      " Error is 8.881784197001252e-16.\n",
      "\n",
      " This is 31th iteration.\n",
      " The estimation of the root is 1.9129311827723892.\n",
      " Error is 8.881784197001252e-16.\n",
      "\n",
      " This is 32th iteration.\n",
      " The estimation of the root is 1.9129311827723892.\n",
      " Error is 8.881784197001252e-16.\n",
      "\n",
      " This is 33th iteration.\n",
      " The estimation of the root is 1.9129311827723892.\n",
      " Error is 8.881784197001252e-16.\n",
      "\n",
      " This is 34th iteration.\n",
      " The estimation of the root is 1.9129311827723892.\n",
      " Error is 8.881784197001252e-16.\n",
      "\n",
      " This is 35th iteration.\n",
      " The estimation of the root is 1.9129311827723892.\n",
      " Error is 8.881784197001252e-16.\n",
      "\n",
      " This is 36th iteration.\n",
      " The estimation of the root is 1.9129311827723892.\n",
      " Error is 8.881784197001252e-16.\n",
      "\n",
      " This is 37th iteration.\n",
      " The estimation of the root is 1.9129311827723892.\n",
      " Error is 8.881784197001252e-16.\n",
      "\n",
      " This is 38th iteration.\n",
      " The estimation of the root is 1.9129311827723892.\n",
      " Error is 8.881784197001252e-16.\n",
      "\n",
      " This is 39th iteration.\n",
      " The estimation of the root is 1.9129311827723892.\n",
      " Error is 8.881784197001252e-16.\n",
      "\n",
      " This is 40th iteration.\n",
      " The estimation of the root is 1.9129311827723892.\n",
      " Error is 8.881784197001252e-16.\n",
      "\n",
      " This is 41th iteration.\n",
      " The estimation of the root is 1.9129311827723892.\n",
      " Error is 8.881784197001252e-16.\n",
      "\n",
      " This is 42th iteration.\n",
      " The estimation of the root is 1.9129311827723892.\n",
      " Error is 8.881784197001252e-16.\n",
      "\n",
      " This is 43th iteration.\n",
      " The estimation of the root is 1.9129311827723892.\n",
      " Error is 8.881784197001252e-16.\n",
      "\n",
      " This is 44th iteration.\n",
      " The estimation of the root is 1.9129311827723892.\n",
      " Error is 8.881784197001252e-16.\n",
      "\n",
      " This is 45th iteration.\n",
      " The estimation of the root is 1.9129311827723892.\n",
      " Error is 8.881784197001252e-16.\n",
      "\n",
      " This is 46th iteration.\n",
      " The estimation of the root is 1.9129311827723892.\n",
      " Error is 8.881784197001252e-16.\n",
      "\n",
      " This is 47th iteration.\n",
      " The estimation of the root is 1.9129311827723892.\n",
      " Error is 8.881784197001252e-16.\n",
      "\n",
      " This is 48th iteration.\n",
      " The estimation of the root is 1.9129311827723892.\n",
      " Error is 8.881784197001252e-16.\n",
      "\n",
      " This is 49th iteration.\n",
      " The estimation of the root is 1.9129311827723892.\n",
      " Error is 8.881784197001252e-16.\n",
      "\n",
      " This is 50th iteration.\n",
      " The estimation of the root is 1.9129311827723892.\n",
      " Error is 8.881784197001252e-16.\n",
      "\n"
     ]
    }
   ],
   "source": [
    "def root_print(c,p,x0,N):\n",
    "    #     Initialize the error\n",
    "    err = 100\n",
    "    i = 0\n",
    "    rt = float(x0)\n",
    "    str1 = ' This is {}th iteration.\\n The estimation of the root is {}.\\n Error is {}.\\n'\n",
    "    if rt**p == c:\n",
    "        err = 0\n",
    "        return str1.format(i,rt,err)\n",
    "    else:\n",
    "        while(i <= N):\n",
    "            rt =  rt-(rt**p-c)/(p*rt**(p-1))\n",
    "            err = abs(rt**p-c)\n",
    "            if i>N:\n",
    "                return 'Try another initial guess point'\n",
    "                break\n",
    "            print(str1.format(i,rt,err))\n",
    "            i = i+1\n",
    "    return None\n",
    "    \n",
    "root_print(7,3,2,50)\n",
    "    "
   ]
  },
  {
   "cell_type": "markdown",
   "metadata": {
    "tags": [
     "exercise"
    ]
   },
   "source": [
    "## Fibonacci Words\n",
    "\n",
    "A [Fibonacci word](https://en.wikipedia.org/wiki/Fibonacci_word) is a string of 0s and 1s constructed by repeatedly concatenating strings. The first two words are\n",
    "\n",
    "```\n",
    "S0 = \"0\"\n",
    "S1 = \"01\"\n",
    "```\n",
    "\n",
    "Then each word is formed by concatenating the previous two words in the sequence. For instance, `S2`, is formed by concatenating `S1` and `S0`. So\n",
    "\n",
    "```\n",
    "S2 = \"010\"\n",
    "S3 = \"01001\"\n",
    "```\n",
    "\n",
    "__Exercise 1.9 (20 points).__ Write a function `fib` that computes Fibonacci words. Your function should take an argument `n` that specifies which word to compute.\n",
    "\n",
    "Use your function to print the first 10 Fibonacci words."
   ]
  },
  {
   "cell_type": "code",
   "execution_count": 47,
   "metadata": {},
   "outputs": [
    {
     "name": "stdout",
     "output_type": "stream",
     "text": [
      "The 0th Fibonacci word is:\n",
      "0\n",
      "The 1th Fibonacci word is:\n",
      "01\n",
      "The 2th Fibonacci word is:\n",
      "010\n",
      "The 3th Fibonacci word is:\n",
      "01001\n",
      "The 4th Fibonacci word is:\n",
      "01001010\n",
      "The 5th Fibonacci word is:\n",
      "0100101001001\n",
      "The 6th Fibonacci word is:\n",
      "010010100100101001010\n",
      "The 7th Fibonacci word is:\n",
      "0100101001001010010100100101001001\n",
      "The 8th Fibonacci word is:\n",
      "0100101001001010010100100101001001010010100100101001010\n",
      "The 9th Fibonacci word is:\n",
      "01001010010010100101001001010010010100101001001010010100100101001001010010100100101001001\n",
      "The 10th Fibonacci word is:\n",
      "010010100100101001010010010100100101001010010010100101001001010010010100101001001010010010100101001001010010100100101001001010010100100101001010\n"
     ]
    }
   ],
   "source": [
    "def fib(n):\n",
    "    '''This function computes the n'th Fibonacci words \n",
    "    And n shoulde be an integer input.'''\n",
    "#     initialize fist two elements\n",
    "    temp0 = '0'\n",
    "    temp1 = '01'\n",
    "    if n == 0:\n",
    "        return temp0\n",
    "    elif n == 1:\n",
    "        return temp1\n",
    "    else:\n",
    "        for i in range(2,n+1):\n",
    "#           combine the string\n",
    "            s = temp1 + temp0\n",
    "#           update temp0 and temp1\n",
    "            temp0 = temp1\n",
    "            temp1 = s\n",
    "        return s\n",
    "# --------------------------------------------------------------\n",
    "seq = range(0,11)\n",
    "for i in seq:\n",
    "    print('The %dth Fibonacci word is:' % i )\n",
    "    fibo = fib(i)\n",
    "    print(fibo)"
   ]
  }
 ],
 "metadata": {
  "celltoolbar": "Tags",
  "kernelspec": {
   "display_name": "Python 3",
   "language": "python",
   "name": "python3"
  },
  "language_info": {
   "codemirror_mode": {
    "name": "ipython",
    "version": 3
   },
   "file_extension": ".py",
   "mimetype": "text/x-python",
   "name": "python",
   "nbconvert_exporter": "python",
   "pygments_lexer": "ipython3",
   "version": "3.7.1"
  }
 },
 "nbformat": 4,
 "nbformat_minor": 2
}
