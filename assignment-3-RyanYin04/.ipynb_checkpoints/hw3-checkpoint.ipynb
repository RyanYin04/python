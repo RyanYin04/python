{
 "cells": [
  {
   "cell_type": "markdown",
   "metadata": {},
   "source": [
    "# STA 141B Assignment 3\n",
    "\n",
    "Due __Feb 11, 2019__ by 11:59pm. Submit by editing this file, committing the changes with git, and then pushing to your private GitHub repo for the assignment. This assignment will be graded according to the class rubric.\n",
    "\n",
    "Please do not rename this file or delete the exercise cells, because it will interfere with our grading tools. Put your answers in new cells after each exercise. You can make as many new cells as you like. Use code cells for code and Markdown cells for text. Answer all questions with complete sentences.\n",
    "\n",
    "The purpose of this assignment is to practice using web APIs and combining data from multiple sources."
   ]
  },
  {
   "cell_type": "markdown",
   "metadata": {
    "class": "fill"
   },
   "source": [
    "## USDA Food Composition\n",
    "\n",
    "The US Department of Agriculture publishes price estimates for fruits and vegetables [online](https://www.ers.usda.gov/data-products/fruit-and-vegetable-prices/fruit-and-vegetable-prices/). The most recent estimates are based on a 2013 survey of US retail stores. We've cleaned and merged the fruit and vegetable price estimates for you. The result is the `fresh.csv` file included in the repository.\n",
    "\n",
    "In this assignment, you'll combine the price estimates with nutrition data from the [USDA Food Composition Databases](https://ndb.nal.usda.gov/ndb/search/list), and then analyze the resulting dataset.\n",
    "\n",
    "The USDA Food Composition Databases have a [documented](https://ndb.nal.usda.gov/ndb/doc/index) web API that returns data in JSON format . You need a key in order to use the API. Only 1000 requests are allowed per hour, so it's a good idea to use caching.\n",
    "\n",
    "[Sign up for an API key here](https://api.data.gov/signup/). The key will work with any data.gov API. You may need the key again later in the quarter, so make sure you save it."
   ]
  },
  {
   "cell_type": "code",
   "execution_count": 16,
   "metadata": {},
   "outputs": [],
   "source": [
    "import numpy as np\n",
    "import pandas as pd\n",
    "import requests\n",
    "import requests_cache\n",
    "import time\n",
    "requests_cache.install_cache('hw3_cache')"
   ]
  },
  {
   "cell_type": "code",
   "execution_count": 3,
   "metadata": {},
   "outputs": [
    {
     "data": {
      "text/html": [
       "<div>\n",
       "<style scoped>\n",
       "    .dataframe tbody tr th:only-of-type {\n",
       "        vertical-align: middle;\n",
       "    }\n",
       "\n",
       "    .dataframe tbody tr th {\n",
       "        vertical-align: top;\n",
       "    }\n",
       "\n",
       "    .dataframe thead th {\n",
       "        text-align: right;\n",
       "    }\n",
       "</style>\n",
       "<table border=\"1\" class=\"dataframe\">\n",
       "  <thead>\n",
       "    <tr style=\"text-align: right;\">\n",
       "      <th></th>\n",
       "      <th>form</th>\n",
       "      <th>price_per_lb</th>\n",
       "      <th>yield</th>\n",
       "      <th>lb_per_cup</th>\n",
       "      <th>price_per_cup</th>\n",
       "      <th>food</th>\n",
       "      <th>type</th>\n",
       "    </tr>\n",
       "  </thead>\n",
       "  <tbody>\n",
       "    <tr>\n",
       "      <th>0</th>\n",
       "      <td>Fresh1</td>\n",
       "      <td>0.316639</td>\n",
       "      <td>0.52</td>\n",
       "      <td>0.330693</td>\n",
       "      <td>0.201366</td>\n",
       "      <td>watermelon</td>\n",
       "      <td>fruit</td>\n",
       "    </tr>\n",
       "    <tr>\n",
       "      <th>1</th>\n",
       "      <td>Fresh1</td>\n",
       "      <td>0.520794</td>\n",
       "      <td>0.51</td>\n",
       "      <td>0.374786</td>\n",
       "      <td>0.382718</td>\n",
       "      <td>cantaloupe</td>\n",
       "      <td>fruit</td>\n",
       "    </tr>\n",
       "    <tr>\n",
       "      <th>2</th>\n",
       "      <td>Fresh1</td>\n",
       "      <td>1.480396</td>\n",
       "      <td>0.74</td>\n",
       "      <td>0.407855</td>\n",
       "      <td>0.815929</td>\n",
       "      <td>tangerines</td>\n",
       "      <td>fruit</td>\n",
       "    </tr>\n",
       "    <tr>\n",
       "      <th>3</th>\n",
       "      <td>Fresh1</td>\n",
       "      <td>2.508450</td>\n",
       "      <td>0.94</td>\n",
       "      <td>0.319670</td>\n",
       "      <td>0.853060</td>\n",
       "      <td>strawberries</td>\n",
       "      <td>fruit</td>\n",
       "    </tr>\n",
       "    <tr>\n",
       "      <th>4</th>\n",
       "      <td>Fresh1</td>\n",
       "      <td>1.987999</td>\n",
       "      <td>0.94</td>\n",
       "      <td>0.363763</td>\n",
       "      <td>0.769319</td>\n",
       "      <td>plums</td>\n",
       "      <td>fruit</td>\n",
       "    </tr>\n",
       "  </tbody>\n",
       "</table>\n",
       "</div>"
      ],
      "text/plain": [
       "     form  price_per_lb  yield  lb_per_cup  price_per_cup          food   type\n",
       "0  Fresh1      0.316639   0.52    0.330693       0.201366    watermelon  fruit\n",
       "1  Fresh1      0.520794   0.51    0.374786       0.382718    cantaloupe  fruit\n",
       "2  Fresh1      1.480396   0.74    0.407855       0.815929    tangerines  fruit\n",
       "3  Fresh1      2.508450   0.94    0.319670       0.853060  strawberries  fruit\n",
       "4  Fresh1      1.987999   0.94    0.363763       0.769319         plums  fruit"
      ]
     },
     "execution_count": 3,
     "metadata": {},
     "output_type": "execute_result"
    }
   ],
   "source": [
    "# read the data:\n",
    "fresh = pd.read_csv('fresh.csv')\n",
    "fresh.head()"
   ]
  },
  {
   "cell_type": "markdown",
   "metadata": {
    "class": "ex",
    "exercise": "1.1",
    "points": "20",
    "tags": [
     "exercise"
    ]
   },
   "source": [
    "__Exercise 1.1__\n",
    "\n",
    "Read the [search request documentation](https://ndb.nal.usda.gov/ndb/doc/apilist/API-SEARCH.md), then write a function called `ndb_search()` that makes a search request. The function should accept the search term as an argument. The function should return the search result items as a list (for 0 items, return an empty list).\n",
    "\n",
    "Note that the search url is: `https://api.nal.usda.gov/ndb/search`\n",
    "\n",
    "As an example, a search for `\"quail eggs\"` might return this list:\n",
    "\n",
    "```python\n",
    "[{'offset': 0,\n",
    "  'group': 'Branded Food Products Database',\n",
    "  'name': 'EL COMPI, QUAIL EGGS, UPC: 854955002226',\n",
    "  'ndbno': '45362205',\n",
    "  'ds': 'LI',\n",
    "  'manu': \"milly's desserts llc\"},\n",
    " {'offset': 1,\n",
    "  'group': 'Branded Food Products Database',\n",
    "  'name': 'BUDDHA, QUAIL EGGS IN BRINE, UPC: 761934535098',\n",
    "  'ndbno': '45099560',\n",
    "  'ds': 'LI',\n",
    "  'manu': 'Sung Ly International Corporation'},\n",
    " {'offset': 2,\n",
    "  'group': 'Branded Food Products Database',\n",
    "  'name': 'GRAN SABANA, QUAIL EGGS, UPC: 819140010103',\n",
    "  'ndbno': '45169279',\n",
    "  'ds': 'LI',\n",
    "  'manu': 'L & M C Farms, Inc.'},\n",
    " {'offset': 3,\n",
    "  'group': 'Branded Food Products Database',\n",
    "  'name': 'L&W, QUAIL EGGS, UPC: 024072000256',\n",
    "  'ndbno': '45094890',\n",
    "  'ds': 'LI',\n",
    "  'manu': 'L&W International Co.'},\n",
    " {'offset': 4,\n",
    "  'group': 'Branded Food Products Database',\n",
    "  'name': 'CHAOKOH, QUAIL EGG IN BRINE, UPC: 044738074186',\n",
    "  'ndbno': '45094707',\n",
    "  'ds': 'LI',\n",
    "  'manu': 'Theppadung Porn Coconut Co'},\n",
    " {'offset': 5,\n",
    "  'group': 'Dairy and Egg Products',\n",
    "  'name': 'Egg, quail, whole, fresh, raw',\n",
    "  'ndbno': '01140',\n",
    "  'ds': 'SR',\n",
    "  'manu': 'none'}]\n",
    "```\n",
    "\n",
    "As usual, make sure you document and test your function."
   ]
  },
  {
   "cell_type": "code",
   "execution_count": 11,
   "metadata": {},
   "outputs": [],
   "source": [
    "# define my loading key function\n",
    "def read_key(x):\n",
    "    with open(x) as file:\n",
    "        return file.readline().strip('\\n')\n",
    "        \n",
    "key = read_key('C:\\\\Users\\\\RockyYin\\\\Documents\\\\Py_For_STA141B\\\\USDA_key.txt')\n",
    "        "
   ]
  },
  {
   "cell_type": "code",
   "execution_count": 26,
   "metadata": {},
   "outputs": [
    {
     "ename": "KeyError",
     "evalue": "'item'",
     "output_type": "error",
     "traceback": [
      "\u001b[1;31m---------------------------------------------------------------------------\u001b[0m",
      "\u001b[1;31mKeyError\u001b[0m                                  Traceback (most recent call last)",
      "\u001b[1;32m<ipython-input-26-1c7bdc9f9872>\u001b[0m in \u001b[0;36m<module>\u001b[1;34m\u001b[0m\n\u001b[0;32m      4\u001b[0m })\n\u001b[0;32m      5\u001b[0m \u001b[0mresponse\u001b[0m\u001b[1;33m.\u001b[0m\u001b[0mraise_for_status\u001b[0m\u001b[1;33m(\u001b[0m\u001b[1;33m)\u001b[0m\u001b[1;33m\u001b[0m\u001b[1;33m\u001b[0m\u001b[0m\n\u001b[1;32m----> 6\u001b[1;33m \u001b[0mresults\u001b[0m \u001b[1;33m=\u001b[0m \u001b[0mresponse\u001b[0m\u001b[1;33m.\u001b[0m\u001b[0mjson\u001b[0m\u001b[1;33m(\u001b[0m\u001b[1;33m)\u001b[0m\u001b[1;33m[\u001b[0m\u001b[1;34m'item'\u001b[0m\u001b[1;33m]\u001b[0m\u001b[1;33m\u001b[0m\u001b[1;33m\u001b[0m\u001b[0m\n\u001b[0m\u001b[0;32m      7\u001b[0m \u001b[0mresults\u001b[0m\u001b[1;33m\u001b[0m\u001b[1;33m\u001b[0m\u001b[0m\n",
      "\u001b[1;31mKeyError\u001b[0m: 'item'"
     ]
    }
   ],
   "source": [
    "response = requests.get('https://api.nal.usda.gov/ndb/search', params={\n",
    "    'api_key': key,\n",
    "    'q': 'quail eggs'\n",
    "})\n",
    "response.raise_for_status()\n",
    "results = response.json()['item']\n",
    "results"
   ]
  },
  {
   "cell_type": "markdown",
   "metadata": {
    "class": "ex",
    "exercise": "1.2",
    "points": "20",
    "tags": [
     "exercise"
    ]
   },
   "source": [
    "__Exercise 1.2__\n",
    "\n",
    "Use your search function to get NDB numbers for the foods in the `fresh.csv` file. It's okay if you don't get an NDB number for every food, but try to come up with a strategy that gets most of them. Discuss your strategy in a short paragraph.\n",
    "\n",
    "Hints:\n",
    "\n",
    "* The foods are all raw and unbranded.\n",
    "* You can test search terms with the [online search page](https://ndb.nal.usda.gov/ndb/search/list).\n",
    "* The [Python](https://docs.python.org/3/library/stdtypes.html#string-methods) and [Pandas](http://pandas.pydata.org/pandas-docs/stable/user_guide/text.html) string methods are useful here. It's okay if you use _simple_ regular expressions in the Pandas methods, although this exercise can be solved without them.\n",
    "* You can merge data frames that have a column in common with `pd.merge()`."
   ]
  },
  {
   "cell_type": "markdown",
   "metadata": {
    "class": "ex",
    "exercise": "1.3",
    "points": "20",
    "tags": [
     "exercise"
    ]
   },
   "source": [
    "__Exercise 1.3__\n",
    "\n",
    "Read the [food reports V2 documentation](https://ndb.nal.usda.gov/ndb/doc/apilist/API-FOOD-REPORTV2.md), then write a function called `ndb_report()` that requests a _basic_ food report. The function should accept the NDB number as an argument and return the list of nutrients for the food.\n",
    "\n",
    "Note that the report url is: `https://api.nal.usda.gov/ndb/V2/reports`\n",
    "\n",
    "For example, for `\"09279\"` (raw plums) the first element of the returned list should be:\n",
    "\n",
    "```python\n",
    "{'nutrient_id': '255',\n",
    " 'name': 'Water',\n",
    " 'derivation': 'NONE',\n",
    " 'group': 'Proximates',\n",
    " 'unit': 'g',\n",
    " 'value': '87.23',\n",
    " 'measures': [{'label': 'cup, sliced',\n",
    "   'eqv': 165.0,\n",
    "   'eunit': 'g',\n",
    "   'qty': 1.0,\n",
    "   'value': '143.93'},\n",
    "  {'label': 'fruit (2-1/8\" dia)',\n",
    "   'eqv': 66.0,\n",
    "   'eunit': 'g',\n",
    "   'qty': 1.0,\n",
    "   'value': '57.57'},\n",
    "  {'label': 'NLEA serving',\n",
    "   'eqv': 151.0,\n",
    "   'eunit': 'g',\n",
    "   'qty': 1.0,\n",
    "   'value': '131.72'}]}\n",
    "```\n",
    "\n",
    "Be sure to document and test your function."
   ]
  },
  {
   "cell_type": "markdown",
   "metadata": {
    "tags": [
     "exercise"
    ]
   },
   "source": [
    "__Exercise 1.4.__\n",
    "\n",
    "Answer any two of the questions below. For each answer, state the question, write 2-3 paragraphs, and support your conclusions with plots.\n",
    "\n",
    " If you like, you can replace one question with a question you came up with on your own.\n",
    "\n",
    "* Are fruits typically higher in kilocalories, or vegetables?\n",
    "* How does yield for fibrous foods (high in dietary fiber) compare to other foods?\n",
    "* Which food provides the widest variety of nutrients?\n",
    "* Which nutrients are the most expensive?\n",
    "* Which foods are the best value for the price? \"Best value\" might mean highest yield per dollar, most kilocalories per dollar, or some other reasonable definition.\n",
    "* How do the price distributions compare for fruits and vegetables?"
   ]
  }
 ],
 "metadata": {
  "kernelspec": {
   "display_name": "Python 3",
   "language": "python",
   "name": "python3"
  },
  "language_info": {
   "codemirror_mode": {
    "name": "ipython",
    "version": 3
   },
   "file_extension": ".py",
   "mimetype": "text/x-python",
   "name": "python",
   "nbconvert_exporter": "python",
   "pygments_lexer": "ipython3",
   "version": "3.7.1"
  }
 },
 "nbformat": 4,
 "nbformat_minor": 2
}
